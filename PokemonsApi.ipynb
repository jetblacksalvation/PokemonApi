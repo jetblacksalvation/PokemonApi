{
 "cells": [
  {
   "cell_type": "code",
   "execution_count": null,
   "id": "5b7dd384",
   "metadata": {},
   "outputs": [],
   "source": [
    "import requests\n",
    "import json\n",
    "import pandas as pd\n",
    "from pandas import DataFrame"
   ]
  },
  {
   "cell_type": "code",
   "execution_count": null,
   "id": "be74fb6d",
   "metadata": {},
   "outputs": [],
   "source": [
    "def GetAllPokemon():\n",
    "    \n",
    "    \n",
    "    x = 0\n",
    "    Response = requests.get(f\"https://pokeapi.co/api/v2/pokemon/?offset={x}&limit={x+ 1279 %25}\",                  \n",
    "            )\n",
    "\n",
    "    dataJson = json.loads(Response.content)\n",
    "    for dic in dataJson['results']:            \n",
    "        yield dic\n",
    "\n",
    "\n",
    "    x+= 1279 %25\n",
    "    \n",
    "    while x+25 < 1279:\n",
    "        \n",
    "        Response = requests.get(f\"https://pokeapi.co/api/v2/pokemon/?offset={x}&limit={x+25}\",                  \n",
    "            )\n",
    "\n",
    "        dataJson = json.loads(Response.content)\n",
    "        for dic in dataJson['results']:\n",
    "            yield dic\n",
    "\n",
    "        x+=25\n",
    "    \n",
    "\n",
    "    \n",
    "    #create a dataframe using the kword arguements \n",
    "    \n",
    "    pass"
   ]
  },
  {
   "cell_type": "code",
   "execution_count": null,
   "id": "45806a06",
   "metadata": {},
   "outputs": [],
   "source": [
    "def GetPokemonStats()->pd.DataFrame:\n",
    "    ResultTable = DataFrame(columns=['id','name', 'health', 'attack', 'sp-atk', 'sp-def', 'speed'])\n",
    "    Allpoke = GetAllPokemon()\n",
    "    statlist = ['health', 'attack', 'sp-atk', 'sp-def', 'speed']\n",
    "\n",
    "    for Id, PokeMon in enumerate(Allpoke):\n",
    "        dic_temp = {\"id\", Id}\n",
    "        for index, stat in enumerate(PokeMon['url']['stats']):\n",
    "            dic_temp[statlist[index]] =  stat['base_stat']\n",
    "            pass\n",
    "        ResultTable = pd.concat(ResultTable, dic_temp)\n",
    "        pass\n",
    "    pass"
   ]
  },
  {
   "cell_type": "code",
   "execution_count": null,
   "id": "16bd65f0",
   "metadata": {},
   "outputs": [],
   "source": [
    "def GetPokemon(name:str):\n",
    "    name = name.strip()\n",
    "    x = 0\n",
    "    \n",
    "    Response = requests.get(f\"https://pokeapi.co/api/v2/pokemon/?offset={x}&limit={x+ 1279 %25}\",                  \n",
    "            )\n",
    "\n",
    "    dataJson = json.loads(Response.content)\n",
    "    for dic in dataJson['results']:\n",
    "        if dic[\"name\"] == name:\n",
    "            return dic\n",
    "\n",
    "\n",
    "    x+= 1279 %25\n",
    "    \n",
    "    while x+25 < 1279:\n",
    "        \n",
    "        Response = requests.get(f\"https://pokeapi.co/api/v2/pokemon/?offset={x}&limit={x+25}\",                  \n",
    "            )\n",
    "\n",
    "        dataJson = json.loads(Response.content)\n",
    "        for dic in dataJson['results']:\n",
    "            if dic[\"name\"] == name:\n",
    "                return dic\n",
    "\n",
    "        x+=25\n",
    "    return False\n"
   ]
  },
  {
   "cell_type": "code",
   "execution_count": null,
   "id": "b94ee206",
   "metadata": {},
   "outputs": [],
   "source": [
    "def GetData(name:str):\n",
    "    data = GetPokemon(name)\n",
    "    \n",
    "    if data != False:\n",
    "        #print(json.loads(requests.get(data['url']).content))\n",
    "        \n",
    "        return json.loads(requests.get(data['url']).content)\n",
    "    else :\n",
    "        return 0 \n",
    "\n",
    "              "
   ]
  },
  {
   "cell_type": "code",
   "execution_count": null,
   "id": "1bc46cb4",
   "metadata": {},
   "outputs": [],
   "source": [
    "def GetPokemonStats()->pd.DataFrame:\n",
    "    ResultTable = DataFrame(columns=['id','name', 'hp', 'attack', 'sp-atk', 'sp-def', 'speed'])\n",
    "    Allpoke = GetAllPokemon()\n",
    "    for Id, PokeMon in enumerate(Allpoke):\n",
    "        dataJson = json.loads(requests.get(PokeMon['url']).content)\n",
    "        list_temp = [Id]\n",
    "        for  stat in dataJson['stats']:\n",
    "            list_temp.append(stat['base_stat'])\n",
    "            pass\n",
    "\n",
    "        tempResultTable = DataFrame(list_temp)\n",
    "        tempResultTable = tempResultTable.T # swaps columns and rows \n",
    "        tempResultTable.columns = ResultTable.columns\n",
    "\n",
    "        ResultTable = pd.concat([ResultTable, tempResultTable], ignore_index=True)\n",
    "\n",
    "    return ResultTable\n",
    "\n",
    "    \n"
   ]
  },
  {
   "cell_type": "code",
   "execution_count": null,
   "metadata": {},
   "outputs": [],
   "source": [
    "temp = GetPokemonStats()"
   ]
  },
  {
   "cell_type": "code",
   "execution_count": null,
   "id": "de52363b",
   "metadata": {},
   "outputs": [],
   "source": [
    "temp\n"
   ]
  }
 ],
 "metadata": {
  "kernelspec": {
   "display_name": "base",
   "language": "python",
   "name": "python3"
  },
  "language_info": {
   "codemirror_mode": {
    "name": "ipython",
    "version": 3
   },
   "file_extension": ".py",
   "mimetype": "text/x-python",
   "name": "python",
   "nbconvert_exporter": "python",
   "pygments_lexer": "ipython3",
   "version": "3.9.13"
  },
  "toc-autonumbering": false,
  "toc-showcode": true,
  "vscode": {
   "interpreter": {
    "hash": "88279d2366fe020547cde40dd65aa0e3aa662a6ec1f3ca12d88834876c85e1a6"
   }
  }
 },
 "nbformat": 4,
 "nbformat_minor": 5
}
