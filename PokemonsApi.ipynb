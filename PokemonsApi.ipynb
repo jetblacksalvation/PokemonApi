{
 "cells": [
  {
   "cell_type": "code",
   "execution_count": 2,
   "id": "5b7dd384",
   "metadata": {},
   "outputs": [],
   "source": [
    "import requests\n",
    "import json\n",
    "import pandas as pd\n",
    "from pandas import DataFrame"
   ]
  },
  {
   "cell_type": "code",
   "execution_count": 3,
   "id": "be74fb6d",
   "metadata": {},
   "outputs": [],
   "source": [
    "def GetAllPokemon():\n",
    "    #the number after limit is the number of pokemon dictionaries that are returned\n",
    "    Response = requests.get(f\"https://pokeapi.co/api/v2/pokemon/?offset={0}&limit={898}\")\n",
    "    dataJson = json.loads(Response.content)# casts the result from the request into a valid JSON instance \n",
    "    for PokeDict in dataJson['results']:\n",
    "        yield PokeDict# PokeDict looks like {'name': name, 'url': some url that returns a json file with all it's data}\n",
    "    #\n",
    "    pass"
   ]
  },
  {
   "attachments": {},
   "cell_type": "markdown",
   "id": "80bcf6da",
   "metadata": {},
   "source": [
    "The above cell returns {\"name\": PokeName, \"url\": a url to the pokemon's data}. From that URL, you recive a JSON file with ALL the data the PokeMon has. "
   ]
  },
  {
   "cell_type": "code",
   "execution_count": 4,
   "id": "16bd65f0",
   "metadata": {},
   "outputs": [],
   "source": [
    "def GetPokemon(name:str):\n",
    "    Response = requests.get(f\"https://pokeapi.co/api/v2/pokemon/?offset={0}&limit={898}\")\n",
    "    dataJson = json.loads(Response.content)\n",
    "    for PokeDict in dataJson['results']:\n",
    "        if PokeDict['name'] ==name:\n",
    "            return PokeDict\n",
    "    return False\n"
   ]
  },
  {
   "attachments": {},
   "cell_type": "markdown",
   "id": "d5606dd9",
   "metadata": {},
   "source": [
    "The above cell takes a string, and checks if the current pokemon's name matches with the arguement string"
   ]
  },
  {
   "cell_type": "code",
   "execution_count": 5,
   "id": "b94ee206",
   "metadata": {},
   "outputs": [],
   "source": [
    "def GetData(name:str):\n",
    "    data = GetPokemon(name)\n",
    "    \n",
    "    if data != False:\n",
    "        #print(json.loads(requests.get(data['url']).content))\n",
    "        \n",
    "        return json.loads(requests.get(data['url']).content)\n",
    "    else :\n",
    "        return 0 \n",
    "\n",
    "              "
   ]
  },
  {
   "cell_type": "code",
   "execution_count": 6,
   "id": "1bc46cb4",
   "metadata": {},
   "outputs": [],
   "source": [
    "def GetPokemonStats()->pd.DataFrame:\n",
    "    ResultTable = DataFrame(columns=['name', 'hp', 'attack', 'defense', 'sp-atk', 'sp-def', 'speed'])\n",
    "    Allpoke = GetAllPokemon()\n",
    "\n",
    "    for  PokeMon in Allpoke:\n",
    "        dataJson = json.loads(requests.get(PokeMon['url']).content)\n",
    "        list_temp = [PokeMon['name']]\n",
    "        for  stat in dataJson['stats']:\n",
    "            list_temp.append(stat['base_stat'])\n",
    "            pass\n",
    "\n",
    "        tempResultTable = DataFrame(list_temp)\n",
    "        PokeFrameResultTable = tempResultTable.T # swaps columns and rows \n",
    "        #Also known as Trasnposing dataframe \n",
    "        tempResultTable.columns = ResultTable.columns\n",
    "        #removing this line causes the columns for the DataFrame to be 1 - 7,which would cause an error when calling concat\n",
    "        #The columns determine the schema of the dataframe \n",
    "        ResultTable = pd.concat([ResultTable, tempResultTable], ignore_index=True)\n",
    "\n",
    "    return ResultTable\n",
    "\n",
    "    \n"
   ]
  },
  {
   "attachments": {},
   "cell_type": "markdown",
   "id": "7ab94687",
   "metadata": {},
   "source": [
    "You should make sure that all the cells before are run, JupyterNotebook is cool in that when you run all of the above/ or below cells, you wont have to run them again to debug every part! So once you get the data, you dont have to run any of the cells before. You don't really need to know \\*how\\* exactly this code work."
   ]
  },
  {
   "cell_type": "code",
   "execution_count": 7,
   "id": "d01919dc",
   "metadata": {},
   "outputs": [
    {
     "name": "stdout",
     "output_type": "stream",
     "text": [
      "           name   hp attack defense sp-atk sp-def speed\n",
      "0     bulbasaur   45     49      49     65     65    45\n",
      "1       ivysaur   60     62      63     80     80    60\n",
      "2      venusaur   80     82      83    100    100    80\n",
      "3    charmander   39     52      43     60     50    65\n",
      "4    charmeleon   58     64      58     80     65    80\n",
      "..          ...  ...    ...     ...    ...    ...   ...\n",
      "893   regieleki   80    100      50    100     50   200\n",
      "894   regidrago  200    100      50    100     50    80\n",
      "895   glastrier  100    145     130     65    110    30\n",
      "896   spectrier  100     65      60    145     80   130\n",
      "897     calyrex  100     80      80     80     80    80\n",
      "\n",
      "[898 rows x 7 columns]\n"
     ]
    }
   ],
   "source": [
    "PokeFrame = GetPokemonStats()"
   ]
  },
  {
   "cell_type": "code",
   "execution_count": 9,
   "id": "819c56f9",
   "metadata": {},
   "outputs": [
    {
     "data": {
      "text/html": [
       "<div>\n",
       "<style scoped>\n",
       "    .dataframe tbody tr th:only-of-type {\n",
       "        vertical-align: middle;\n",
       "    }\n",
       "\n",
       "    .dataframe tbody tr th {\n",
       "        vertical-align: top;\n",
       "    }\n",
       "\n",
       "    .dataframe thead th {\n",
       "        text-align: right;\n",
       "    }\n",
       "</style>\n",
       "<table border=\"1\" class=\"dataframe\">\n",
       "  <thead>\n",
       "    <tr style=\"text-align: right;\">\n",
       "      <th></th>\n",
       "      <th>name</th>\n",
       "      <th>hp</th>\n",
       "      <th>attack</th>\n",
       "      <th>defense</th>\n",
       "      <th>sp-atk</th>\n",
       "      <th>sp-def</th>\n",
       "      <th>speed</th>\n",
       "    </tr>\n",
       "  </thead>\n",
       "  <tbody>\n",
       "    <tr>\n",
       "      <th>0</th>\n",
       "      <td>bulbasaur</td>\n",
       "      <td>45</td>\n",
       "      <td>49</td>\n",
       "      <td>49</td>\n",
       "      <td>65</td>\n",
       "      <td>65</td>\n",
       "      <td>45</td>\n",
       "    </tr>\n",
       "    <tr>\n",
       "      <th>1</th>\n",
       "      <td>ivysaur</td>\n",
       "      <td>60</td>\n",
       "      <td>62</td>\n",
       "      <td>63</td>\n",
       "      <td>80</td>\n",
       "      <td>80</td>\n",
       "      <td>60</td>\n",
       "    </tr>\n",
       "    <tr>\n",
       "      <th>2</th>\n",
       "      <td>venusaur</td>\n",
       "      <td>80</td>\n",
       "      <td>82</td>\n",
       "      <td>83</td>\n",
       "      <td>100</td>\n",
       "      <td>100</td>\n",
       "      <td>80</td>\n",
       "    </tr>\n",
       "    <tr>\n",
       "      <th>3</th>\n",
       "      <td>charmander</td>\n",
       "      <td>39</td>\n",
       "      <td>52</td>\n",
       "      <td>43</td>\n",
       "      <td>60</td>\n",
       "      <td>50</td>\n",
       "      <td>65</td>\n",
       "    </tr>\n",
       "    <tr>\n",
       "      <th>4</th>\n",
       "      <td>charmeleon</td>\n",
       "      <td>58</td>\n",
       "      <td>64</td>\n",
       "      <td>58</td>\n",
       "      <td>80</td>\n",
       "      <td>65</td>\n",
       "      <td>80</td>\n",
       "    </tr>\n",
       "    <tr>\n",
       "      <th>...</th>\n",
       "      <td>...</td>\n",
       "      <td>...</td>\n",
       "      <td>...</td>\n",
       "      <td>...</td>\n",
       "      <td>...</td>\n",
       "      <td>...</td>\n",
       "      <td>...</td>\n",
       "    </tr>\n",
       "    <tr>\n",
       "      <th>893</th>\n",
       "      <td>regieleki</td>\n",
       "      <td>80</td>\n",
       "      <td>100</td>\n",
       "      <td>50</td>\n",
       "      <td>100</td>\n",
       "      <td>50</td>\n",
       "      <td>200</td>\n",
       "    </tr>\n",
       "    <tr>\n",
       "      <th>894</th>\n",
       "      <td>regidrago</td>\n",
       "      <td>200</td>\n",
       "      <td>100</td>\n",
       "      <td>50</td>\n",
       "      <td>100</td>\n",
       "      <td>50</td>\n",
       "      <td>80</td>\n",
       "    </tr>\n",
       "    <tr>\n",
       "      <th>895</th>\n",
       "      <td>glastrier</td>\n",
       "      <td>100</td>\n",
       "      <td>145</td>\n",
       "      <td>130</td>\n",
       "      <td>65</td>\n",
       "      <td>110</td>\n",
       "      <td>30</td>\n",
       "    </tr>\n",
       "    <tr>\n",
       "      <th>896</th>\n",
       "      <td>spectrier</td>\n",
       "      <td>100</td>\n",
       "      <td>65</td>\n",
       "      <td>60</td>\n",
       "      <td>145</td>\n",
       "      <td>80</td>\n",
       "      <td>130</td>\n",
       "    </tr>\n",
       "    <tr>\n",
       "      <th>897</th>\n",
       "      <td>calyrex</td>\n",
       "      <td>100</td>\n",
       "      <td>80</td>\n",
       "      <td>80</td>\n",
       "      <td>80</td>\n",
       "      <td>80</td>\n",
       "      <td>80</td>\n",
       "    </tr>\n",
       "  </tbody>\n",
       "</table>\n",
       "<p>898 rows × 7 columns</p>\n",
       "</div>"
      ],
      "text/plain": [
       "           name   hp attack defense sp-atk sp-def speed\n",
       "0     bulbasaur   45     49      49     65     65    45\n",
       "1       ivysaur   60     62      63     80     80    60\n",
       "2      venusaur   80     82      83    100    100    80\n",
       "3    charmander   39     52      43     60     50    65\n",
       "4    charmeleon   58     64      58     80     65    80\n",
       "..          ...  ...    ...     ...    ...    ...   ...\n",
       "893   regieleki   80    100      50    100     50   200\n",
       "894   regidrago  200    100      50    100     50    80\n",
       "895   glastrier  100    145     130     65    110    30\n",
       "896   spectrier  100     65      60    145     80   130\n",
       "897     calyrex  100     80      80     80     80    80\n",
       "\n",
       "[898 rows x 7 columns]"
      ]
     },
     "execution_count": 9,
     "metadata": {},
     "output_type": "execute_result"
    }
   ],
   "source": [
    "PokeFrame"
   ]
  },
  {
   "attachments": {},
   "cell_type": "markdown",
   "id": "2800b2e4",
   "metadata": {},
   "source": [
    "PokeFrame is what is called a table/or DataFrame, tables are where the data is at. If you want to do data science, \n",
    "learning how to manipulate and query the data of a table will become very useful. \n"
   ]
  },
  {
   "attachments": {},
   "cell_type": "markdown",
   "id": "e47c05a2",
   "metadata": {},
   "source": [
    "You're goal is to add another column, with complete data, that represents their habitat, here is the documentation https://pokeapi.co/docs/v2#pokemon-section.\n",
    "Once you are done with that, pivot the data frame, and index with both row number, and pokemon name. "
   ]
  },
  {
   "attachments": {},
   "cell_type": "markdown",
   "id": "5542e0e0",
   "metadata": {},
   "source": [
    "It's somewhat easier to tell what data you are getting by sending GET requests using something like Postman or curl"
   ]
  }
 ],
 "metadata": {
  "kernelspec": {
   "display_name": "base",
   "language": "python",
   "name": "python3"
  },
  "language_info": {
   "codemirror_mode": {
    "name": "ipython",
    "version": 3
   },
   "file_extension": ".py",
   "mimetype": "text/x-python",
   "name": "python",
   "nbconvert_exporter": "python",
   "pygments_lexer": "ipython3",
   "version": "3.9.13"
  },
  "toc-autonumbering": false,
  "toc-showcode": true,
  "vscode": {
   "interpreter": {
    "hash": "26817ff938798197070b54d270f9dbf5033d99fec71ce2b53cd09ba34463f61f"
   }
  }
 },
 "nbformat": 4,
 "nbformat_minor": 5
}
