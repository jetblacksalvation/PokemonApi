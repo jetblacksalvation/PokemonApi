{
 "cells": [
  {
   "cell_type": "code",
   "execution_count": 1,
   "id": "5b7dd384",
   "metadata": {},
   "outputs": [],
   "source": [
    "import requests\n",
    "import json\n",
    "import pandas as pd\n",
    "from pandas import DataFrame"
   ]
  },
  {
   "cell_type": "code",
   "execution_count": 23,
   "id": "be74fb6d",
   "metadata": {},
   "outputs": [],
   "source": [
    "def GetAllPokemon():\n",
    "    Response = requests.get(f\"https://pokeapi.co/api/v2/pokemon/?offset={0}&limit={898}\")\n",
    "    dataJson = json.loads(Response.content)\n",
    "    for PokeDict in dataJson['results']:\n",
    "        yield PokeDict\n",
    "    pass"
   ]
  },
  {
   "cell_type": "code",
   "execution_count": 17,
   "id": "16bd65f0",
   "metadata": {},
   "outputs": [],
   "source": [
    "def GetPokemon(name:str):\n",
    "    Response = requests.get(f\"https://pokeapi.co/api/v2/pokemon/?offset={0}&limit={898}\")\n",
    "    dataJson = json.loads(Response.content)\n",
    "    for PokeDict in dataJson['results']:\n",
    "        if PokeDict['name'] ==name:\n",
    "            return PokeDict\n",
    "    return False\n"
   ]
  },
  {
   "cell_type": "code",
   "execution_count": 18,
   "id": "b94ee206",
   "metadata": {},
   "outputs": [],
   "source": [
    "def GetData(name:str):\n",
    "    data = GetPokemon(name)\n",
    "    \n",
    "    if data != False:\n",
    "        #print(json.loads(requests.get(data['url']).content))\n",
    "        \n",
    "        return json.loads(requests.get(data['url']).content)\n",
    "    else :\n",
    "        return 0 \n",
    "\n",
    "              "
   ]
  },
  {
   "cell_type": "code",
   "execution_count": 26,
   "id": "1bc46cb4",
   "metadata": {},
   "outputs": [],
   "source": [
    "def GetPokemonStats()->pd.DataFrame:\n",
    "    ResultTable = DataFrame(columns=['name', 'hp', 'attack', 'defense', 'sp-atk', 'sp-def', 'speed'])\n",
    "    Allpoke = GetAllPokemon()\n",
    "\n",
    "    for  PokeMon in Allpoke:\n",
    "        dataJson = json.loads(requests.get(PokeMon['url']).content)\n",
    "        list_temp = [PokeMon['name']]\n",
    "        for  stat in dataJson['stats']:\n",
    "            list_temp.append(stat['base_stat'])\n",
    "            pass\n",
    "\n",
    "        tempResultTable = DataFrame(list_temp)\n",
    "        tempResultTable = tempResultTable.T # swaps columns and rows \n",
    "\n",
    "        tempResultTable.columns = ResultTable.columns\n",
    "\n",
    "        ResultTable = pd.concat([ResultTable, tempResultTable], ignore_index=True)\n",
    "\n",
    "    return ResultTable\n",
    "\n",
    "    \n"
   ]
  },
  {
   "cell_type": "code",
   "execution_count": 27,
   "metadata": {},
   "outputs": [],
   "source": [
    "temp = GetPokemonStats()\n"
   ]
  },
  {
   "cell_type": "code",
   "execution_count": 29,
   "id": "de52363b",
   "metadata": {},
   "outputs": [],
   "source": [
    "temp.to_excel(\"PokeMonStats.xlsx\")\n"
   ]
  },
  {
   "cell_type": "code",
   "execution_count": null,
   "id": "819c56f9",
   "metadata": {},
   "outputs": [],
   "source": []
  }
 ],
 "metadata": {
  "kernelspec": {
   "display_name": "base",
   "language": "python",
   "name": "python3"
  },
  "language_info": {
   "codemirror_mode": {
    "name": "ipython",
    "version": 3
   },
   "file_extension": ".py",
   "mimetype": "text/x-python",
   "name": "python",
   "nbconvert_exporter": "python",
   "pygments_lexer": "ipython3",
   "version": "3.9.13"
  },
  "toc-autonumbering": false,
  "toc-showcode": true,
  "vscode": {
   "interpreter": {
    "hash": "88279d2366fe020547cde40dd65aa0e3aa662a6ec1f3ca12d88834876c85e1a6"
   }
  }
 },
 "nbformat": 4,
 "nbformat_minor": 5
}
